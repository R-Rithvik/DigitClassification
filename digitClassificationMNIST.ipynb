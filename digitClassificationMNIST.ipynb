{
  "nbformat": 4,
  "nbformat_minor": 0,
  "metadata": {
    "colab": {
      "provenance": []
    },
    "kernelspec": {
      "name": "python3",
      "display_name": "Python 3"
    },
    "language_info": {
      "name": "python"
    }
  },
  "cells": [
    {
      "cell_type": "code",
      "execution_count": 1,
      "metadata": {
        "id": "OcxXU5ptoSNx"
      },
      "outputs": [],
      "source": [
        "import numpy as np\n",
        "from keras.datasets import mnist\n",
        "from keras.models import Sequential\n",
        "import matplotlib.pyplot as plt\n",
        "from keras.layers import Flatten,Dense\n",
        "from sklearn.metrics import accuracy_score"
      ]
    },
    {
      "cell_type": "code",
      "source": [
        "(X_train,y_train),(X_test,y_test) = mnist.load_data()"
      ],
      "metadata": {
        "colab": {
          "base_uri": "https://localhost:8080/"
        },
        "id": "Z2gG07FZ_Go6",
        "outputId": "9ad9593a-9399-4de1-a37c-c6af0c98eaba"
      },
      "execution_count": 2,
      "outputs": [
        {
          "output_type": "stream",
          "name": "stdout",
          "text": [
            "Downloading data from https://storage.googleapis.com/tensorflow/tf-keras-datasets/mnist.npz\n",
            "11490434/11490434 [==============================] - 0s 0us/step\n"
          ]
        }
      ]
    },
    {
      "cell_type": "code",
      "source": [
        "X_train = X_train/255\n",
        "X_test = X_test/255"
      ],
      "metadata": {
        "id": "xReD0Akf_glL"
      },
      "execution_count": 3,
      "outputs": []
    },
    {
      "cell_type": "code",
      "source": [
        "plt.imshow(X_train[2])"
      ],
      "metadata": {
        "colab": {
          "base_uri": "https://localhost:8080/",
          "height": 447
        },
        "id": "yNpQB4phAT73",
        "outputId": "bf38d1cd-a00c-47d7-a615-59374b76a4c0"
      },
      "execution_count": 4,
      "outputs": [
        {
          "output_type": "execute_result",
          "data": {
            "text/plain": [
              "<matplotlib.image.AxesImage at 0x7bdfbdbab130>"
            ]
          },
          "metadata": {},
          "execution_count": 4
        },
        {
          "output_type": "display_data",
          "data": {
            "text/plain": [
              "<Figure size 640x480 with 1 Axes>"
            ],
            "image/png": "[encoded data removed]"
          },
          "metadata": {}
        }
      ]
    },
    {
      "cell_type": "code",
      "source": [
        "model = Sequential()\n",
        "model.add(Flatten(input_shape = (28,28)))\n",
        "model.add(Dense(128,activation = \"relu\"))\n",
        "model.add(Dense(10,activation = \"softmax\"))"
      ],
      "metadata": {
        "id": "T06lmzU_Az25"
      },
      "execution_count": 5,
      "outputs": []
    },
    {
      "cell_type": "code",
      "source": [
        "model.summary()"
      ],
      "metadata": {
        "colab": {
          "base_uri": "https://localhost:8080/"
        },
        "id": "aYZQsorkD6Kw",
        "outputId": "d51f18f9-1ff5-4e6c-ed9e-02870899665c"
      },
      "execution_count": 6,
      "outputs": [
        {
          "output_type": "stream",
          "name": "stdout",
          "text": [
            "Model: \"sequential\"\n",
            "_________________________________________________________________\n",
            " Layer (type)                Output Shape              Param #   \n",
            "=================================================================\n",
            " flatten (Flatten)           (None, 784)               0         \n",
            "                                                                 \n",
            " dense (Dense)               (None, 128)               100480    \n",
            "                                                                 \n",
            " dense_1 (Dense)             (None, 10)                1290      \n",
            "                                                                 \n",
            "=================================================================\n",
            "Total params: 101770 (397.54 KB)\n",
            "Trainable params: 101770 (397.54 KB)\n",
            "Non-trainable params: 0 (0.00 Byte)\n",
            "_________________________________________________________________\n"
          ]
        }
      ]
    },
    {
      "cell_type": "code",
      "source": [
        "model.compile(loss = \"sparse_categorical_crossentropy\",metrics = \"accuracy\",optimizer = \"Adam\")"
      ],
      "metadata": {
        "id": "gEtTK6HcDKFA"
      },
      "execution_count": 7,
      "outputs": []
    },
    {
      "cell_type": "code",
      "source": [
        "history = model.fit(X_train,y_train,epochs = 10,validation_split = 0.3,)"
      ],
      "metadata": {
        "colab": {
          "base_uri": "https://localhost:8080/"
        },
        "id": "eXZA4j_XENFv",
        "outputId": "58404e7e-9470-4c20-823b-23438470f35a"
      },
      "execution_count": 8,
      "outputs": [
        {
          "output_type": "stream",
          "name": "stdout",
          "text": [
            "Epoch 1/10\n",
            "1313/1313 [==============================] - 5s 4ms/step - loss: 0.3029 - accuracy: 0.9122 - val_loss: 0.1731 - val_accuracy: 0.9509\n",
            "Epoch 2/10\n",
            "1313/1313 [==============================] - 5s 4ms/step - loss: 0.1328 - accuracy: 0.9607 - val_loss: 0.1312 - val_accuracy: 0.9603\n",
            "Epoch 3/10\n",
            "1313/1313 [==============================] - 6s 4ms/step - loss: 0.0896 - accuracy: 0.9737 - val_loss: 0.1218 - val_accuracy: 0.9648\n",
            "Epoch 4/10\n",
            "1313/1313 [==============================] - 5s 4ms/step - loss: 0.0684 - accuracy: 0.9796 - val_loss: 0.1054 - val_accuracy: 0.9689\n",
            "Epoch 5/10\n",
            "1313/1313 [==============================] - 6s 5ms/step - loss: 0.0524 - accuracy: 0.9836 - val_loss: 0.0963 - val_accuracy: 0.9718\n",
            "Epoch 6/10\n",
            "1313/1313 [==============================] - 5s 4ms/step - loss: 0.0410 - accuracy: 0.9874 - val_loss: 0.1040 - val_accuracy: 0.9687\n",
            "Epoch 7/10\n",
            "1313/1313 [==============================] - 6s 4ms/step - loss: 0.0327 - accuracy: 0.9903 - val_loss: 0.0996 - val_accuracy: 0.9723\n",
            "Epoch 8/10\n",
            "1313/1313 [==============================] - 6s 5ms/step - loss: 0.0254 - accuracy: 0.9923 - val_loss: 0.1025 - val_accuracy: 0.9719\n",
            "Epoch 9/10\n",
            "1313/1313 [==============================] - 5s 4ms/step - loss: 0.0211 - accuracy: 0.9938 - val_loss: 0.1016 - val_accuracy: 0.9732\n",
            "Epoch 10/10\n",
            "1313/1313 [==============================] - 6s 4ms/step - loss: 0.0167 - accuracy: 0.9953 - val_loss: 0.1143 - val_accuracy: 0.9693\n"
          ]
        }
      ]
    },
    {
      "cell_type": "code",
      "source": [
        "y = model.predict(X_test)"
      ],
      "metadata": {
        "colab": {
          "base_uri": "https://localhost:8080/"
        },
        "id": "N1q0Z6RAE3vU",
        "outputId": "5783e83f-698e-496e-e79d-7c5a7232ebd7"
      },
      "execution_count": 9,
      "outputs": [
        {
          "output_type": "stream",
          "name": "stdout",
          "text": [
            "313/313 [==============================] - 1s 1ms/step\n"
          ]
        }
      ]
    },
    {
      "cell_type": "code",
      "source": [
        "y_pred = y.argmax(axis = 1)\n",
        "y_pred"
      ],
      "metadata": {
        "colab": {
          "base_uri": "https://localhost:8080/"
        },
        "id": "TwHMjHOxFH1t",
        "outputId": "e6359498-47e5-4378-b4b7-529b13295264"
      },
      "execution_count": 10,
      "outputs": [
        {
          "output_type": "execute_result",
          "data": {
            "text/plain": [
              "array([7, 2, 1, ..., 4, 5, 6])"
            ]
          },
          "metadata": {},
          "execution_count": 10
        }
      ]
    },
    {
      "cell_type": "code",
      "source": [
        "accuracy_score(y_test,y_pred)"
      ],
      "metadata": {
        "colab": {
          "base_uri": "https://localhost:8080/"
        },
        "id": "-GCSRNUQFcnc",
        "outputId": "65b53086-fe7d-464e-a4fc-9694235b7cca"
      },
      "execution_count": 11,
      "outputs": [
        {
          "output_type": "execute_result",
          "data": {
            "text/plain": [
              "0.9746"
            ]
          },
          "metadata": {},
          "execution_count": 11
        }
      ]
    },
    {
      "cell_type": "code",
      "source": [
        "plt.plot(history.history['accuracy'], label='Training Accuracy')\n",
        "plt.plot(history.history['val_accuracy'], label='Validation Accuracy')\n",
        "plt.xlabel('Epoch')\n",
        "plt.ylabel('Accuracy')\n",
        "plt.title('Training and Validation Accuracy')\n",
        "plt.legend()\n",
        "plt.show()"
      ],
      "metadata": {
        "id": "wfeHvuN-F3vY",
        "colab": {
          "base_uri": "https://localhost:8080/",
          "height": 472
        },
        "outputId": "021fdec3-34e0-47a1-e5a1-ddfb506702b4"
      },
      "execution_count": 12,
      "outputs": [
        {
          "output_type": "display_data",
          "data": {
            "text/plain": [
              "<Figure size 640x480 with 1 Axes>"
            ],
            "image/png": "[encoded data removed]"
          },
          "metadata": {}
        }
      ]
    }
  ]
}